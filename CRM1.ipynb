{
  "nbformat": 4,
  "nbformat_minor": 0,
  "metadata": {
    "colab": {
      "provenance": [],
      "collapsed_sections": [],
      "mount_file_id": "16gJ694On4E1TWjmW3rT6yA8O0ee3g3Eh",
      "authorship_tag": "ABX9TyPr2eZ7Y0kwdkoHtcak2+rE",
      "include_colab_link": true
    },
    "kernelspec": {
      "name": "python3",
      "display_name": "Python 3"
    },
    "language_info": {
      "name": "python"
    }
  },
  "cells": [
    {
      "cell_type": "markdown",
      "metadata": {
        "id": "view-in-github",
        "colab_type": "text"
      },
      "source": [
        "<a href=\"https://colab.research.google.com/github/nadyayal/CRM/blob/main/CRM1.ipynb\" target=\"_parent\"><img src=\"https://colab.research.google.com/assets/colab-badge.svg\" alt=\"Open In Colab\"/></a>"
      ]
    },
    {
      "cell_type": "code",
      "execution_count": 1,
      "metadata": {
        "id": "tHCJNAQOUoP5"
      },
      "outputs": [],
      "source": [
        "import numpy as np\n",
        "import pandas as pd\n",
        "from ast import literal_eval\n",
        "import matplotlib.pyplot as plt"
      ]
    },
    {
      "cell_type": "code",
      "source": [
        "def read_adas4(adas4_file, add_process_type, ):\n",
        "  with open(adas4_file) as file:\n",
        "    array = [row.strip() for row in file]\n",
        "  line_num = []\n",
        "  for i in range(len(array)):\n",
        "    if array[i] == '-1':\n",
        "      line_num.append(i)\n",
        "\n",
        "  z1 = [i.split()[:] for i in array[(2):line_num[0]]] #read configuration data, energy cm-1\n",
        "  df1 = pd.DataFrame(z1[:])\n",
        "  l = []\n",
        "  for i in range(len(z1)):\n",
        "    l.append(str(z1[i][3]+z1[i][4]))\n",
        "  df1[7] = l\n",
        "  df1 = df1.drop({1,3,4,6}, axis=1)\n",
        "  df2 = pd.DataFrame(data = {'Level_i': ['1'],  'Configuration': ['1S1'] , 'Energy': ['0'], '(2S+1)L(J)': ['(1)0(0.0)']}) #data for i = 1\n",
        "  df1 = df1.rename(columns={0: 'Level_i', 2: 'Configuration', 5: 'Energy', 7: '(2S+1)L(J)'})\n",
        "  df_conf = pd.concat([df2, df1]).reset_index().drop(['index'], axis=1) # got config dataset\n",
        "  df_conf['Energy'] = df_conf['Energy'].astype(float)\n",
        "  df_conf['Energy_eV'] = [i*h*c for i in df_conf.Energy[:]] #transfering energy to eV\n",
        "  df_conf = df_conf.drop(['Energy'], axis=1)\n",
        "\n",
        "  degen = []\n",
        "  for i in df_conf['(2S+1)L(J)']:\n",
        "    symb = []\n",
        "    for j in range(len(i)):\n",
        "      if i[j] == '(':\n",
        "        symb.append(j)\n",
        "    degen.append(2*float(i[symb[1]+1:-1])+1) #2J+1 https://mipt.ru/dmcp/student/sc_work/Kostykevich_220508.pdf\n",
        "  df_conf['degeneracy'] = degen\n",
        "\n",
        "  z = [i.split()[:] for i in array[(line_num[0]+2):line_num[1]]] #read coef data\n",
        "  for i in range(len(z)):\n",
        "    for j in range(len(z[i])):\n",
        "      if z[i][j] != '+1':\n",
        "        if '+' in z[i][j]:\n",
        "          z[i][j] = z[i][j].replace('+', 'e+')\n",
        "        elif '-' in z[i][j]:\n",
        "          z[i][j] = z[i][j].replace('-', 'e-')\n",
        "  df = pd.DataFrame(z[:])\n",
        "\n",
        "  df_pr = df.loc[df[0] == add_process_type]\n",
        "  df = df.loc[df[0] != add_process_type]\n",
        "  if add_process_type == 'S':\n",
        "    df = df.drop([17], axis = 1)\n",
        "\n",
        "  cols = ['Level_j', 'Level_i', 'A3', '1.16+04', '2.32+04', '5.80+04', '1.16+05',\n",
        "        '2.32+05', '5.80+05', '1.16+06', '2.32+06', '5.80+06', '1.16+07',\n",
        "        '2.32+07', '5.80+07', '1.16+08', '2.32+08']\n",
        "\n",
        "  eV = 8.61732814974056E-05\n",
        "  l = ['Level_j', 'Level_i', 'A3']\n",
        "  for i in cols:\n",
        "      if '+' in i:\n",
        "          l.append(str(round(literal_eval(str(i).replace('+', 'e+'))*eV,6)))\n",
        "  for i in range(len(l)):\n",
        "      df = df.rename(columns={i : l[i]})\n",
        "  df.iloc[:,2:] = df.iloc[:,2:].astype(float)\n",
        "   \n",
        "  df_pr = df_pr.rename(columns={0:'pr_type'})\n",
        "  \n",
        "  Aik = df['A3']\n",
        "  \n",
        "  df = df.drop(['A3'], axis=1)\n",
        "  l.remove('A3')\n",
        "  for i in range(len(l)):\n",
        "    df_pr = df_pr.rename(columns={i+1: l[i]})\n",
        "  df_pr = df_pr.drop(['Level_i'], axis=1)\n",
        "  df_pr = df_pr.rename(columns={'Level_j': 'Level_i'})\n",
        "  '''if add_process_type == 'S':\n",
        "    df_pr = df_pr.drop(['A3'], axis=1)'''\n",
        "  df_pr.iloc[:,2:] = df_pr.iloc[:,2:].astype(float)\n",
        "\n",
        "  return df, df_pr, Aik, df_conf\n",
        "\n",
        "\n",
        "def plot_coef_temp(df, idx): #idx - index depending on process\n",
        "  temp_range = [] #dependence on Temp\n",
        "\n",
        "  for i in df.columns[2:]:\n",
        "    temp_range.append(float(i))\n",
        "  coef_range = []\n",
        "\n",
        "  if df.columns[0] == 'pr_type':\n",
        "    if df.pr_type[idx] == 'R':\n",
        "      ttl = 'Free electron recombination'\n",
        "      cols_to_drop = ['pr_type', 'Level_i']\n",
        "    elif df.pr_type[idx] == 'S':\n",
        "      ttl = 'Ionisation'\n",
        "      cols_to_drop = ['pr_type', 'Level_i']\n",
        "  else:\n",
        "    ttl = 'Free electron excitation'\n",
        "    cols_to_drop = ['Level_i', 'Level_j']\n",
        " \n",
        "  for i in df.drop(cols_to_drop, axis=1).loc[idx]:\n",
        "    coef_range.append(float(i))\n",
        "\n",
        "  plt.scatter(coef_range, temp_range)\n",
        "  plt.xlabel('Coefficient')\n",
        "  plt.ylabel('Temperature')\n",
        "  plt.title(f'{ttl} rate coefficient dependence on Te')\n",
        "  plt.show()\n",
        "  return temp_range, coef_range\n",
        "\n",
        "def matrix_cacl(Te, lvl_i, df_conf):\n",
        "  Uex_Te = df_ex[{'Level_j'\t, Te}].loc[df_ex.Level_i == lvl_i] #df for Te with Level_i col\n",
        "  rec_coef_df, ion_coef_df = df_r[{'Level_i'\t, Te}], df_i[{'Level_i'\t, Te}]\n",
        "\n",
        "  idx = df_ex.loc[df_ex.Level_i == lvl_i].index #for Einst coef Aji\n",
        "\n",
        "  qji = const/df_config['degeneracy'][int(lvl_i):].reset_index(drop=True) * (\n",
        "      IH/kB/float(Te1)*eV)**0.5 * Uex_Te[Te].reset_index(drop=True)\n",
        "  dE = df_conf['Energy_eV'][int(lvl_i):]-df_conf['Energy_eV'][int(lvl_i)-1]\n",
        "  exp_calc = np.exp(dE/kB/float(Te)*eV)\n",
        "  factor = df_conf['degeneracy'][int(lvl_i):] / df_conf['degeneracy'][int(lvl_i)-1] * exp_calc\n",
        "  qij = factor.reset_index(drop=True) * qji\n",
        "\n",
        "  Si = ion_coef_df[Te].loc[ion_coef_df.Level_i==lvl_i]\n",
        "  Cii = ne*float(Si) + sum(ne*qij)\n",
        "  Cij = Aji[idx].reset_index(drop=True)+ne*qji #?\n",
        "\n",
        "  return Cii, Cij, qij, qji, Si"
      ],
      "metadata": {
        "id": "x2xwsDFJVHUN"
      },
      "execution_count": 2,
      "outputs": []
    },
    {
      "cell_type": "code",
      "source": [
        "#const\n",
        "ion_potential = 198310.8\n",
        "eV = 8.61732814974056E-05\n",
        "h = 4.135667669e-15 #eV*s\n",
        "c = 29979245800 #cm/s\n",
        "\n",
        "const = 2.1716e-8 #cm3 s-1 #for excitation rate coef\n",
        "IH = 13.6048 #eV\n",
        "kB = 8.617e-5 #eV/K"
      ],
      "metadata": {
        "id": "kUeMCGsnDtb_"
      },
      "execution_count": 3,
      "outputs": []
    },
    {
      "cell_type": "code",
      "source": [
        "pd.set_option('display.float_format', lambda x: '%.2e' % x)"
      ],
      "metadata": {
        "id": "7B1GzPhMBeTj"
      },
      "execution_count": 4,
      "outputs": []
    },
    {
      "cell_type": "code",
      "source": [
        "df_ex, df_i, Aji, df_config = read_adas4(\"/content/drive/MyDrive/CRM_data/helike_hps02he.dat\", 'S')\n",
        "_, df_r, _, _ = read_adas4(\"/content/drive/MyDrive/CRM_data/helike_kvi97#he0.dat\", 'R')"
      ],
      "metadata": {
        "id": "NW1KQCVgtavP"
      },
      "execution_count": 5,
      "outputs": []
    },
    {
      "cell_type": "code",
      "source": [
        "ne = 1e13 # Electron density in cm**-3\n",
        "ni = 2e13 # Ion density in cm**-3\n",
        "\n",
        "Te1 = '49.980503'\n",
        "lvl_i = '14'"
      ],
      "metadata": {
        "id": "RVnBjBjs4USW"
      },
      "execution_count": 7,
      "outputs": []
    },
    {
      "cell_type": "code",
      "source": [
        "Cii, Cij, qij, qji, Si = matrix_cacl(Te1, lvl_i, df_config)"
      ],
      "metadata": {
        "id": "OH0nlB_a8RcR"
      },
      "execution_count": 8,
      "outputs": []
    },
    {
      "cell_type": "markdown",
      "source": [
        "![image.png](data:image/png;base64,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)"
      ],
      "metadata": {
        "id": "AEFUaHisqNbh"
      }
    },
    {
      "cell_type": "markdown",
      "source": [
        "![image.png](data:image/png;base64,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)"
      ],
      "metadata": {
        "id": "Slq3m9qJo9Ns"
      }
    },
    {
      "cell_type": "markdown",
      "source": [
        "![image.png](data:image/png;base64,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)"
      ],
      "metadata": {
        "id": "8bICWhGko-14"
      }
    },
    {
      "cell_type": "markdown",
      "source": [
        "![image.png](data:image/png;base64,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)"
      ],
      "metadata": {
        "id": "cRd57_Jlt_YK"
      }
    },
    {
      "cell_type": "markdown",
      "source": [
        "thats why we don't include qI , SI.\n",
        "Our ionization coeff is \"electron impact ionisation data to stage above\""
      ],
      "metadata": {
        "id": "g_cjFUmvuCfl"
      }
    },
    {
      "cell_type": "code",
      "source": [
        "Te=Te1\n",
        "df_conf = df_config"
      ],
      "metadata": {
        "id": "ZK5ninpFemwC"
      },
      "execution_count": 10,
      "outputs": []
    },
    {
      "cell_type": "code",
      "source": [
        "Uex_Te = df_ex[{'Level_j'\t, Te}].loc[df_ex.Level_i == lvl_i] #df for Te with Level_i col\n",
        "rec_coef_df, ion_coef_df = df_r[{'Level_i'\t, Te}], df_i[{'Level_i'\t, Te}]\n",
        "\n",
        "idx = df_ex.loc[df_ex.Level_i == lvl_i].index #for Einst coef Aji\n",
        "\n",
        "qji = const/df_config['degeneracy'][int(lvl_i):].reset_index(drop=True) * (\n",
        "  IH/kB/float(Te1)*eV)**0.5 * Uex_Te[Te].reset_index(drop=True)\n",
        "dE = df_conf['Energy_eV'][int(lvl_i):]-df_conf['Energy_eV'][int(lvl_i)-1]\n",
        "exp_calc = np.exp(dE/kB/float(Te)*eV)\n",
        "factor = df_conf['degeneracy'][int(lvl_i):] / df_conf['degeneracy'][int(lvl_i)-1] * exp_calc\n",
        "qij = factor.reset_index(drop=True) * qji\n",
        "\n",
        "Si = ion_coef_df[Te].loc[ion_coef_df.Level_i==lvl_i]\n",
        "Cii = ne*float(Si) + sum(ne*qij)\n",
        "Cij = Aji[idx].reset_index(drop=True)+ne*qji #?\n",
        "\n"
      ],
      "metadata": {
        "id": "zDXoMEZyhmAZ"
      },
      "execution_count": 11,
      "outputs": []
    },
    {
      "cell_type": "code",
      "source": [
        "Uex_Te = df_ex[{'Level_i', 'Level_j'\t, Te}].loc[(df_ex.Level_i == lvl_i) | (df_ex.Level_j == lvl_i)]"
      ],
      "metadata": {
        "id": "9wPl5TuDeiVn"
      },
      "execution_count": 12,
      "outputs": []
    },
    {
      "cell_type": "code",
      "source": [
        "qji = const/df_config['degeneracy']* (\n",
        "  IH/kB/float(Te1)*eV)**0.5 * Uex_Te[Te].reset_index(drop=True)"
      ],
      "metadata": {
        "id": "LWJQ1aQ_esMI"
      },
      "execution_count": 13,
      "outputs": []
    },
    {
      "cell_type": "code",
      "source": [
        "l = []\n",
        "lvl = 1\n",
        "for i in Uex_Te.index:\n",
        "  l.append(const/int(df_config['degeneracy'].loc[df_config['Level_i'] == str(lvl)].values) * (IH/kB/float(Te1)*eV)**0.5 * Uex_Te[Te][i])\n",
        "  lvl = lvl + 1\n",
        "  if lvl == int(lvl_i):\n",
        "    lvl = lvl + 1"
      ],
      "metadata": {
        "id": "WgOQYL5XiAc-"
      },
      "execution_count": 14,
      "outputs": []
    },
    {
      "cell_type": "code",
      "source": [
        "qji = pd.Series(l, index=Uex_Te.index)"
      ],
      "metadata": {
        "id": "usVPDceRj3Hw"
      },
      "execution_count": 15,
      "outputs": []
    },
    {
      "cell_type": "code",
      "source": [
        "df_config['Energy_eV'].loc[df_config['Level_i'] == str(int(lvl_i)+1)] - df_config['Energy_eV'].loc[df_config['Level_i'] == lvl_i]"
      ],
      "metadata": {
        "colab": {
          "base_uri": "https://localhost:8080/"
        },
        "id": "tc_OVenGp-hP",
        "outputId": "ed97d85d-46c6-4070-f1fd-16d9968b90d5"
      },
      "execution_count": 16,
      "outputs": [
        {
          "output_type": "execute_result",
          "data": {
            "text/plain": [
              "13   NaN\n",
              "14   NaN\n",
              "Name: Energy_eV, dtype: float64"
            ]
          },
          "metadata": {},
          "execution_count": 16
        }
      ]
    },
    {
      "cell_type": "code",
      "source": [
        "df_config['Energy_eV'].loc[df_config['Level_i'] == lvl_i]"
      ],
      "metadata": {
        "colab": {
          "base_uri": "https://localhost:8080/"
        },
        "id": "0ahN5aqSpsrI",
        "outputId": "85c2fb2f-bfe2-41b2-a898-041046582897"
      },
      "execution_count": 17,
      "outputs": [
        {
          "output_type": "execute_result",
          "data": {
            "text/plain": [
              "13   2.37e+01\n",
              "Name: Energy_eV, dtype: float64"
            ]
          },
          "metadata": {},
          "execution_count": 17
        }
      ]
    },
    {
      "cell_type": "code",
      "source": [
        "qji"
      ],
      "metadata": {
        "colab": {
          "base_uri": "https://localhost:8080/"
        },
        "id": "m50DD49_ocpA",
        "outputId": "faefd9df-a11b-4363-9bcc-d857e0f4463b"
      },
      "execution_count": 18,
      "outputs": [
        {
          "output_type": "execute_result",
          "data": {
            "text/plain": [
              "12    4.37e-11\n",
              "29    5.36e-09\n",
              "45    1.95e-10\n",
              "60    8.85e-09\n",
              "74    2.50e-10\n",
              "87    8.72e-08\n",
              "99    4.85e-10\n",
              "110   1.91e-07\n",
              "120   6.80e-08\n",
              "129   1.02e-08\n",
              "137   5.06e-10\n",
              "144   3.66e-05\n",
              "150   1.53e-09\n",
              "156   1.98e-05\n",
              "157   1.16e-09\n",
              "158   3.22e-07\n",
              "159   7.20e-10\n",
              "160   1.78e-09\n",
              "dtype: float64"
            ]
          },
          "metadata": {},
          "execution_count": 18
        }
      ]
    },
    {
      "cell_type": "code",
      "source": [
        "df_config['degeneracy'].loc[df_config['Level_i'] == ind_i]"
      ],
      "metadata": {
        "colab": {
          "base_uri": "https://localhost:8080/",
          "height": 165
        },
        "id": "MZEAziHDka25",
        "outputId": "10ac8498-ca28-4f5c-a622-c88038a32710"
      },
      "execution_count": 19,
      "outputs": [
        {
          "output_type": "error",
          "ename": "NameError",
          "evalue": "ignored",
          "traceback": [
            "\u001b[0;31m---------------------------------------------------------------------------\u001b[0m",
            "\u001b[0;31mNameError\u001b[0m                                 Traceback (most recent call last)",
            "\u001b[0;32m<ipython-input-19-ffe58bc4de58>\u001b[0m in \u001b[0;36m<module>\u001b[0;34m\u001b[0m\n\u001b[0;32m----> 1\u001b[0;31m \u001b[0mdf_config\u001b[0m\u001b[0;34m[\u001b[0m\u001b[0;34m'degeneracy'\u001b[0m\u001b[0;34m]\u001b[0m\u001b[0;34m.\u001b[0m\u001b[0mloc\u001b[0m\u001b[0;34m[\u001b[0m\u001b[0mdf_config\u001b[0m\u001b[0;34m[\u001b[0m\u001b[0;34m'Level_i'\u001b[0m\u001b[0;34m]\u001b[0m \u001b[0;34m==\u001b[0m \u001b[0mind_i\u001b[0m\u001b[0;34m]\u001b[0m\u001b[0;34m\u001b[0m\u001b[0;34m\u001b[0m\u001b[0m\n\u001b[0m",
            "\u001b[0;31mNameError\u001b[0m: name 'ind_i' is not defined"
          ]
        }
      ]
    },
    {
      "cell_type": "code",
      "source": [
        "df_config['degeneracy'][int(lvl_i):]"
      ],
      "metadata": {
        "id": "Bwox-AuuflBE"
      },
      "execution_count": null,
      "outputs": []
    },
    {
      "cell_type": "code",
      "source": [
        "Uex_Te['Level_j'][12]"
      ],
      "metadata": {
        "id": "VQKqvWv_hDPl"
      },
      "execution_count": null,
      "outputs": []
    },
    {
      "cell_type": "code",
      "source": [
        "df_config['degeneracy']"
      ],
      "metadata": {
        "id": "RNtCl4TBfa2g"
      },
      "execution_count": null,
      "outputs": []
    },
    {
      "cell_type": "code",
      "source": [
        "data_nist"
      ],
      "metadata": {
        "id": "OgaHLygDfbw3"
      },
      "execution_count": null,
      "outputs": []
    },
    {
      "cell_type": "code",
      "source": [
        "data_nist = pd.read_excel('/content/drive/MyDrive/CRM_data/data_nist.xlsx').drop(['Acc'], axis=1)\n",
        "for i in data_nist['Aki(s^-1)'].index:\n",
        "  if data_nist['Aki(s^-1)'][i] == '  ':\n",
        "    data_nist['Aki(s^-1)'][i] = '0'\n",
        "data_nist['Aki(s^-1)'], data_nist['Ei(eV)'], data_nist['Ek(eV)'], data_nist['obs_wl_vac(nm)'] = data_nist[\n",
        "    'Aki(s^-1)'].astype(float), data_nist['Ei(eV)'].astype(float), data_nist['Ek(eV)'].astype(float), data_nist[\n",
        "    'obs_wl_vac(nm)'].astype(float)\n",
        "data_nist['g_i'], data_nist['g_k'] = data_nist['g_i'].astype(int), data_nist['g_k'].astype(int)"
      ],
      "metadata": {
        "id": "1pvpURjEOUty"
      },
      "execution_count": null,
      "outputs": []
    },
    {
      "cell_type": "code",
      "source": [
        "data_nist"
      ],
      "metadata": {
        "id": "v_-8_HWJQKZB"
      },
      "execution_count": null,
      "outputs": []
    },
    {
      "cell_type": "code",
      "source": [],
      "metadata": {
        "id": "ihG089-LQbWR"
      },
      "execution_count": null,
      "outputs": []
    },
    {
      "cell_type": "code",
      "source": [],
      "metadata": {
        "id": "ablmwV4hQ42H"
      },
      "execution_count": null,
      "outputs": []
    }
  ]
}